{
 "cells": [
  {
   "cell_type": "markdown",
   "metadata": {},
   "source": [
    "# HPC PROJECT PART 1 "
   ]
  },
  {
   "cell_type": "markdown",
   "metadata": {},
   "source": [
    "Tanner Salvage"
   ]
  },
  {
   "cell_type": "markdown",
   "metadata": {},
   "source": [
    "This program compares the performance of BiCGstab and GMRES to solve the Poisson Equation.\n",
    "\n",
    "The PDE is discretised in OpenCL using a centred difference approximation and then converted to a linear operator class to apply the solvers.\n",
    "\n",
    "Lastly, the solution is validated by comparing to a Fenics implementation. "
   ]
  },
  {
   "cell_type": "code",
   "execution_count": 1,
   "metadata": {},
   "outputs": [],
   "source": [
    "# Initialise\n",
    "from functools import partial\n",
    "import matplotlib.pyplot as plt\n",
    "import inspect\n",
    "import numpy as np\n",
    "import pyopencl as cl"
   ]
  },
  {
   "cell_type": "code",
   "execution_count": 2,
   "metadata": {},
   "outputs": [],
   "source": [
    "# Discretise with OpenCL\n",
    "def solve_poisson_eqn(u, sigma, N):\n",
    "    \"\"\"\n",
    "    \"\"\"\n",
    "    kernel = \"\"\"\n",
    "    \n",
    "    __kernel void SolvePoissonEqn(__global double *u,\n",
    "                                  __global double *result,\n",
    "                                  __global double *sigma,\n",
    "                                  int N)\n",
    "    {\n",
    "    \n",
    "    \n",
    "        int gid = get_global_id(0);\n",
    "        double h = 1.0/N;\n",
    "        \n",
    "        // Only compute on the inner grid\n",
    "        if(gid < N )\n",
    "            result[gid] = u[gid];\n",
    "        else if (gid % N == 0)\n",
    "            result[gid] = u[gid];\n",
    "        else if (gid > (N * N - N))\n",
    "            result[gid] = u[gid];\n",
    "        else\n",
    "            // Centred difference approximation\n",
    "            result[gid] = - 1/(2*h*h) *\n",
    "                        ((sigma[gid+1] + sigma[gid]) * (u[gid+1] - u[gid]) -\n",
    "                         (sigma[gid-1] + sigma[gid]) * (u[gid] - u[gid-1]) + \n",
    "                         (sigma[gid+N] + sigma[gid]) * (u[gid+N] - u[gid]) -\n",
    "                         (sigma[gid-N] + sigma[gid]) * (u[gid] - u[gid-N]));\n",
    "    }\n",
    "    \n",
    "    \"\"\"\n",
    "    # OpenCL initialisation\n",
    "    ctx = cl.create_some_context()\n",
    "    queue = cl.CommandQueue(ctx)\n",
    "    mf = cl.mem_flags\n",
    "    prg = cl.Program(ctx, kernel).build()\n",
    "    kernel = prg.SolvePoissonEqn\n",
    "    \n",
    "    # Create buffers\n",
    "    u_buffer = cl.Buffer(ctx, mf.COPY_HOST_PTR | mf.READ_ONLY, hostbuf=u)\n",
    "    sigma_buffer = cl.Buffer(ctx, mf.COPY_HOST_PTR | mf.READ_ONLY, hostbuf=sigma)\n",
    "    result_buffer = cl.Buffer(ctx, mf.ALLOC_HOST_PTR | mf.WRITE_ONLY, size=len(u) * 8)\n",
    "    \n",
    "    # Compute result\n",
    "    kernel(queue, (N*N, ), (1, ), u_buffer, result_buffer, sigma_buffer, np.int32(N)) \n",
    "    result, _ = cl.enqueue_map_buffer(queue, result_buffer, cl.map_flags.READ,\n",
    "                                  0, (N*N, ), np.double)\n",
    "    \n",
    "    #result = np.resize(result, (N,N))\n",
    "    return result"
   ]
  },
  {
   "cell_type": "code",
   "execution_count": 3,
   "metadata": {},
   "outputs": [],
   "source": [
    "# Solve equation with specified solvers\n",
    "from scipy.sparse.linalg import LinearOperator, bicgstab,  gmres\n",
    "\n",
    "# Get residual and number of iterations\n",
    "class report(object):\n",
    "    def __init__(self, disp=True):\n",
    "        # Initialise callback\n",
    "        self._disp = disp\n",
    "        self.res = []\n",
    "        self.niter = 0\n",
    "        \n",
    "    def __call__(self, xk, rk = None):\n",
    "        frame = inspect.currentframe().f_back\n",
    "        residual = (frame.f_locals['resid'])\n",
    "        self.res.append(residual)\n",
    "        self.niter +=1\n",
    "\n",
    "def use_solver(solver, A, f, N):\n",
    "    \"\"\"\n",
    "    Solve the Poisson equation using a specified FDM solver from the SciPy library.\n",
    "    A = matrix of coefficients\n",
    "    f = solution vector\n",
    "    N = dimensions of system where len(f) = N^2 \n",
    "    \"\"\"\n",
    "    import time\n",
    "    \n",
    "    # Include report\n",
    "    rep = report()\n",
    "    \n",
    "    # Solve and time\n",
    "    start = time.time()\n",
    "    u_soln, info = solver( A, f, callback=rep, atol= 1e-12)\n",
    "    end = time.time()\n",
    "\n",
    "    total_time =  end - start\n",
    "\n",
    "    # Resize solution into N x N matrix\n",
    "    u_soln = np.resize(u_soln, (N, N))\n",
    "    \n",
    "    return(u_soln, rep.res, rep.niter, total_time)"
   ]
  },
  {
   "cell_type": "code",
   "execution_count": 4,
   "metadata": {},
   "outputs": [
    {
     "data": {
      "image/png": "[encoded data removed]",
      "text/plain": [
       "<Figure size 432x288 with 1 Axes>"
      ]
     },
     "metadata": {},
     "output_type": "display_data"
    }
   ],
   "source": [
    "# OpenCL implementation with non linear sigma to compare with FEniCS\n",
    "\n",
    "# Initialise with N = 10 for demonstration\n",
    "N = 10\n",
    "u = np.zeros(N*N)  \n",
    "f = np.ones(( N * N))\n",
    "sigma =  1 + u**2\n",
    "\n",
    "# Convert to linear operator class\n",
    "A = LinearOperator((N*N,N*N), matvec = partial(solve_poisson_eqn, sigma = sigma, N = N))\n",
    "\n",
    "# Solve with bicgstab\n",
    "u_soln, res, niter, time = use_solver(bicgstab, A, f, N)\n",
    "\n",
    "# plot the graph\n",
    "plt.imshow(u_soln, extent= [0, 1, 0, 1])\n",
    "plt.xlabel('x')\n",
    "plt.ylabel('y')\n",
    "plt.show()"
   ]
  },
  {
   "cell_type": "code",
   "execution_count": 5,
   "metadata": {},
   "outputs": [
    {
     "data": {
      "image/png": "[encoded data removed]",
      "text/plain": [
       "<Figure size 432x288 with 1 Axes>"
      ]
     },
     "metadata": {},
     "output_type": "display_data"
    },
    {
     "data": {
      "image/png": "[encoded data removed]",
      "text/plain": [
       "<Figure size 432x288 with 1 Axes>"
      ]
     },
     "metadata": {},
     "output_type": "display_data"
    }
   ],
   "source": [
    "# Experiment 1 - speed and efficiency of BiCGstab and GMRES\n",
    "\n",
    "# Initialise\n",
    "solver_array = (bicgstab, gmres)\n",
    "mean, stdev = 0, 0.1\n",
    "\n",
    "for solver in solver_array:\n",
    "    # Initialise\n",
    "    nIterVec = []\n",
    "    NsqrVec = []\n",
    "    costVec = []\n",
    "    NVec = (10, 20)\n",
    "    \n",
    "    for N in NVec:\n",
    "        # Initialise \n",
    "        u = np.zeros(N*N)  \n",
    "        f = np.ones(( N * N))\n",
    "        sigma = np.exp(-(np.random.normal(mean, stdev, ((N) * (N)))))\n",
    "\n",
    "        # Convert to linear operator class\n",
    "        A = LinearOperator((N*N,N*N), matvec = partial(solve_poisson_eqn, sigma = sigma, N = N))\n",
    "\n",
    "        # Only store residual of final N\n",
    "        if (N == 160):\n",
    "            u_soln, res, niter, total_time = use_solver(solver, A, f, N)\n",
    "        else:\n",
    "            u_soln, _, niter, total_time = use_solver(solver, A, f, N)\n",
    "        \n",
    "        # Save iteration, N and time info\n",
    "        nIterVec.append(niter)\n",
    "        NsqrVec.append(N**2)\n",
    "        costVec.append(total_time/niter)\n",
    "    \n",
    "    # Plot graphs\n",
    "    plt.figure(1)\n",
    "    plt.plot(NsqrVec, nIterVec)\n",
    "    plt.title('Efficiency of GMRES and BiCGstab')\n",
    "    plt.xlabel('Matrix Dimensions N^2')\n",
    "    plt.ylabel('Number of Iterations to Converge')\n",
    "    plt.legend(['bicgstab', 'gmres']) \n",
    "    \n",
    "    plt.figure(2)\n",
    "    plt.plot(NVec, costVec)\n",
    "    plt.title('Speed of GMRES and BiCGstab')\n",
    "    plt.xlabel('Matrix Dimensions, N')\n",
    "    plt.ylabel('Time per iteration (s)')\n",
    "    plt.legend(['bicgstab', 'gmres']) \n",
    "    \n",
    "    if (N == 160):\n",
    "        plt.figure(3)\n",
    "        plt.plot(np.arange(0, niter, 1), res)\n",
    "        plt.xlabel('Number of Iterations')\n",
    "        plt.ylabel('log(residual)')\n",
    "        plt.yscale('log')\n",
    "        plt.legend(['bicgstab', 'gmres']) \n",
    "\n"
   ]
  },
  {
   "cell_type": "code",
   "execution_count": 6,
   "metadata": {},
   "outputs": [
    {
     "name": "stdout",
     "output_type": "stream",
     "text": [
      "Solver: <function bicgstab at 0x112c34ae8>\n",
      "Number of iteations: 20\n",
      "total time: 0.08744215965270996\n"
     ]
    },
    {
     "data": {
      "image/png": "[encoded data removed]",
      "text/plain": [
       "<Figure size 432x288 with 1 Axes>"
      ]
     },
     "metadata": {},
     "output_type": "display_data"
    },
    {
     "name": "stdout",
     "output_type": "stream",
     "text": [
      "Solver: <function gmres at 0x112c34f28>\n",
      "Number of iteations: 59\n",
      "total time: 0.17990899085998535\n"
     ]
    },
    {
     "data": {
      "image/png": "[encoded data removed]",
      "text/plain": [
       "<Figure size 432x288 with 1 Axes>"
      ]
     },
     "metadata": {},
     "output_type": "display_data"
    }
   ],
   "source": [
    "# Experiment 2 - comparison of BiCGstab and GMRES with rhs = cos(x) + sin(y)\n",
    "\n",
    "# Initialise with N = 10 for demonstration\n",
    "N = 10\n",
    "\n",
    "for solver in solver_array:\n",
    "\n",
    "    f = np.ones(N*N)\n",
    "    u = np.zeros(N*N)\n",
    "    sigma = np.exp(-(np.random.normal(mean, stdev, ((N) * (N)))))\n",
    "    \n",
    "    for i in range (0,N):\n",
    "        x = 1./(i+1)\n",
    "        for j in range (0,N):\n",
    "            y = 1./(j+1)\n",
    "            f[i*N + j] = np.cos(x) + np.sin(y)\n",
    "\n",
    "\n",
    "    # Convert to linear operator class\n",
    "    A = LinearOperator((N*N,N*N), matvec = partial(solve_poisson_eqn, sigma = sigma, N = N))\n",
    "\n",
    "    u_soln, _, niter, total_time = use_solver(solver, A, f, N)\n",
    "    \n",
    "    print(\"Solver:\", solver)\n",
    "    print(\"Number of iteations:\", niter)\n",
    "    print(\"total time:\", total_time)\n",
    "    \n",
    "    plt.imshow(u_soln, extent= [0, 1, 0, 1])\n",
    "    plt.show()"
   ]
  },
  {
   "cell_type": "markdown",
   "metadata": {},
   "source": [
    "---"
   ]
  }
 ],
 "metadata": {
  "kernelspec": {
   "display_name": "Python 3",
   "language": "python",
   "name": "python3"
  },
  "language_info": {
   "codemirror_mode": {
    "name": "ipython",
    "version": 3
   },
   "file_extension": ".py",
   "mimetype": "text/x-python",
   "name": "python",
   "nbconvert_exporter": "python",
   "pygments_lexer": "ipython3",
   "version": "3.6.7"
  }
 },
 "nbformat": 4,
 "nbformat_minor": 2
}
